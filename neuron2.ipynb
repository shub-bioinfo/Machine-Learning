{
 "cells": [
  {
   "cell_type": "code",
   "execution_count": 2,
   "metadata": {},
   "outputs": [],
   "source": [
    "#Importing Numpy library\n",
    "import numpy as np"
   ]
  },
  {
   "cell_type": "markdown",
   "metadata": {},
   "source": [
    "### Input Features\n",
    "Having three input features and the corresponding output is first number.\n",
    "We have taken 16 data points in the current study."
   ]
  },
  {
   "cell_type": "code",
   "execution_count": 3,
   "metadata": {},
   "outputs": [
    {
     "data": {
      "text/plain": [
       "array([[1, 7, 3],\n",
       "       [2, 8, 4],\n",
       "       [3, 9, 3],\n",
       "       [4, 6, 5],\n",
       "       [5, 4, 5],\n",
       "       [6, 4, 5],\n",
       "       [7, 6, 1],\n",
       "       [8, 5, 3],\n",
       "       [1, 4, 2],\n",
       "       [2, 5, 3],\n",
       "       [3, 4, 8],\n",
       "       [4, 3, 1],\n",
       "       [5, 1, 2],\n",
       "       [6, 6, 3],\n",
       "       [7, 1, 9],\n",
       "       [8, 3, 2]])"
      ]
     },
     "execution_count": 3,
     "metadata": {},
     "output_type": "execute_result"
    }
   ],
   "source": [
    "#Define input features :\n",
    "input_features = np.array([[1,7,3],[2,8,4],[3,9,3],[4,6,5],[5,4,5],[6,4,5],[7,6,1],[8,5,3],\n",
    "                           [1,4,2],[2,5,3],[3,4,8],[4,3,1],[5,1,2],[6,6,3],[7,1,9],[8,3,2]])\n",
    "input_features.shape\n",
    "input_features"
   ]
  },
  {
   "cell_type": "markdown",
   "metadata": {},
   "source": [
    "### Target Output\n",
    "We divided the output from 10 to normalize it between 0 and 1. As the output of sigmoid function is between 0 and 1."
   ]
  },
  {
   "cell_type": "code",
   "execution_count": 4,
   "metadata": {},
   "outputs": [
    {
     "data": {
      "text/plain": [
       "array([[0.1],\n",
       "       [0.2],\n",
       "       [0.3],\n",
       "       [0.4],\n",
       "       [0.5],\n",
       "       [0.6],\n",
       "       [0.7],\n",
       "       [0.8],\n",
       "       [0.1],\n",
       "       [0.2],\n",
       "       [0.3],\n",
       "       [0.4],\n",
       "       [0.5],\n",
       "       [0.6],\n",
       "       [0.7],\n",
       "       [0.8]])"
      ]
     },
     "execution_count": 4,
     "metadata": {},
     "output_type": "execute_result"
    }
   ],
   "source": [
    "target_output = np.array([1,2,3,4,5,6,7,8,1,2,3,4,5,6,7,8,])# Reshaping our target output into vector :\n",
    "target_output = target_output.reshape(16,1)\n",
    "target_output=target_output/10\n",
    "target_output.shape\n",
    "target_output"
   ]
  },
  {
   "cell_type": "markdown",
   "metadata": {},
   "source": [
    "### Initialising random weights\n",
    "There is one hidden layer with four nodes and one output layer with three nodes."
   ]
  },
  {
   "cell_type": "code",
   "execution_count": 5,
   "metadata": {},
   "outputs": [
    {
     "data": {
      "text/plain": [
       "(4, 1)"
      ]
     },
     "execution_count": 5,
     "metadata": {},
     "output_type": "execute_result"
    }
   ],
   "source": [
    "#Random weights for hidden and output layer.\n",
    "weight_hidden = np.array([[0.1,0.2,0.3,0.7],[0.4,0.5,0.6,0.4],[0.1,0.2,0.1,0.3]])\n",
    "weight_output = np.array([[0.7],[0.8],[0.9],[0.2]])\n",
    "weight_hidden\n",
    "weight_output.shape"
   ]
  },
  {
   "cell_type": "code",
   "execution_count": 6,
   "metadata": {},
   "outputs": [],
   "source": [
    "# Sigmoid function :\n",
    "def sigmoid(x):\n",
    "   return 1/(1+np.exp(-x))"
   ]
  },
  {
   "cell_type": "code",
   "execution_count": 7,
   "metadata": {},
   "outputs": [],
   "source": [
    "# Derivative of sigmoid function :\n",
    "def sigmoid_der(x):\n",
    "   return sigmoid(x)*(1-sigmoid(x))"
   ]
  },
  {
   "cell_type": "code",
   "execution_count": 8,
   "metadata": {},
   "outputs": [],
   "source": [
    "# Learning Rate :\n",
    "lr = 0.005"
   ]
  },
  {
   "cell_type": "code",
   "execution_count": 9,
   "metadata": {},
   "outputs": [],
   "source": [
    "#Saving error into a file name error2.dat\n",
    "!rm error2.dat\n",
    "file =open(\"error2.dat\", 'w')"
   ]
  },
  {
   "cell_type": "code",
   "execution_count": 10,
   "metadata": {},
   "outputs": [
    {
     "data": {
      "text/plain": [
       "(array([[-2.11418790e-01,  2.11984415e-01,  2.11931619e-01,\n",
       "          1.01686741e+00],\n",
       "        [-3.29602325e-03,  1.09339276e-03,  1.32714939e-03,\n",
       "          8.70774401e-01],\n",
       "        [-5.31278239e-04, -1.40569636e-03, -1.20794089e-03,\n",
       "          5.65064561e-01]]),\n",
       " array([[-5.89187893],\n",
       "        [ 2.52129286],\n",
       "        [ 2.6488355 ],\n",
       "        [-2.27732727]]))"
      ]
     },
     "execution_count": 10,
     "metadata": {},
     "output_type": "execute_result"
    }
   ],
   "source": [
    "for epoch in range(200000):\n",
    "\n",
    " # Input for hidden layer :\n",
    "    input_hidden = np.dot(input_features, weight_hidden)\n",
    " \n",
    " # Output from hidden layer :\n",
    "    output_hidden = sigmoid(input_hidden)\n",
    " \n",
    " # Input for output layer :\n",
    "    input_op = np.dot(output_hidden, weight_output)\n",
    " \n",
    " # Output from output layer :\n",
    "    output_op = sigmoid(input_op)\n",
    "\n",
    " # Calculating Mean Squared Error :\n",
    "    error_out = ( (1/16) * (np.power((output_op  - target_output), 2)))\n",
    "    error_final = error_out.sum()\n",
    "    file.write(\"%d % 9.8f \\n\" % (epoch, error_final))\n",
    "\n",
    "#==========================================================\n",
    " # Output Layer\n",
    "  \n",
    " # Derivatives for phase 1 :\n",
    "    derror_douto = output_op - target_output\n",
    "    douto_dino = sigmoid_der(input_op) \n",
    "    dino_dwo = output_hidden\n",
    "    derror_dwo = np.dot(dino_dwo.T, derror_douto * douto_dino)\n",
    "\n",
    "#===========================================================\n",
    " # Hidden Layer\n",
    " # derror_w1 = derror_douth * douth_dinh * dinh_dw1\n",
    " # derror_douth = derror_dino * dino_outh\n",
    " \n",
    " # Derivatives for phase 2 :\n",
    "    derror_dino = derror_douto * douto_dino\n",
    "    dino_douth = weight_output\n",
    "    derror_douth = np.dot(derror_dino , dino_douth.T)\n",
    "    douth_dinh = sigmoid_der(input_hidden) \n",
    "    dinh_dwh = input_features\n",
    "    derror_wh = np.dot(dinh_dwh.T, douth_dinh * derror_douth)\n",
    "    \n",
    " # Update Weights\n",
    "    weight_hidden -= lr * derror_wh\n",
    "    weight_output -= lr * derror_dwo\n",
    "\n",
    "#file.close()\n",
    "weight_hidden, weight_output"
   ]
  },
  {
   "cell_type": "markdown",
   "metadata": {},
   "source": [
    "#### Plotting the error \n",
    "Now we will plot the error from error2.dat file."
   ]
  },
  {
   "cell_type": "code",
   "execution_count": 12,
   "metadata": {},
   "outputs": [
    {
     "data": {
      "text/plain": [
       "Text(0, 0.5, 'Error')"
      ]
     },
     "execution_count": 12,
     "metadata": {},
     "output_type": "execute_result"
    },
    {
     "data": {
      "image/png": "[encoded data removed]",
      "text/plain": [
       "<Figure size 432x288 with 1 Axes>"
      ]
     },
     "metadata": {
      "needs_background": "light"
     },
     "output_type": "display_data"
    }
   ],
   "source": [
    "from matplotlib import pyplot as plt\n",
    "run, err= np.loadtxt(\"error2.dat\", unpack=True)\n",
    "plt.plot(run, err)\n",
    "plt.xlabel(\"Epoch\")\n",
    "plt.ylabel(\"Error\")"
   ]
  },
  {
   "cell_type": "code",
   "execution_count": 14,
   "metadata": {},
   "outputs": [
    {
     "name": "stdout",
     "output_type": "stream",
     "text": [
      "\n",
      "#-------------------------------------------------\n",
      "\n",
      "\n",
      "Modified weights for hidden layer.\n",
      "\n",
      "[[-2.11418790e-01  2.11984415e-01  2.11931619e-01  1.01686741e+00]\n",
      " [-3.29602325e-03  1.09339276e-03  1.32714939e-03  8.70774401e-01]\n",
      " [-5.31278239e-04 -1.40569636e-03 -1.20794089e-03  5.65064561e-01]]\n",
      "\n",
      "Modified weights for output layer.\n",
      "\n",
      "[[-5.89187893]\n",
      " [ 2.52129286]\n",
      " [ 2.6488355 ]\n",
      " [-2.27732727]]\n",
      "\n",
      "#-------------------------------------------------\n",
      "\n",
      "\n",
      "derror_douto \n",
      "[[ 0.01785193]\n",
      " [-0.00830419]\n",
      " [-0.00870513]\n",
      " [ 0.00161274]\n",
      " [ 0.01477685]\n",
      " [ 0.01818921]\n",
      " [ 0.00412879]\n",
      " [-0.03328472]\n",
      " [ 0.01678262]\n",
      " [-0.01089674]\n",
      " [-0.01547107]\n",
      " [-0.00113602]\n",
      " [ 0.01209576]\n",
      " [ 0.02053938]\n",
      " [-0.00082452]\n",
      " [-0.03439621]]\n",
      "(16, 1)\n",
      "\n",
      "dino_dwo \n",
      "[[0.10396285]\n",
      " [0.15494853]\n",
      " [0.20644217]\n",
      " [0.24031995]\n",
      " [0.24978164]\n",
      " [0.23603131]\n",
      " [0.20833144]\n",
      " [0.17886296]\n",
      " [0.10314444]\n",
      " [0.15334321]\n",
      " [0.20357222]\n",
      " [0.2397715 ]\n",
      " [0.24985369]\n",
      " [0.23547026]\n",
      " [0.21032913]\n",
      " [0.17945462]]\n",
      "(16, 1)\n",
      "\n",
      "dno_dwo \n",
      "[[0.44125142 0.55364801 0.55418587 0.99985041]\n",
      " [0.38904434 0.60517943 0.60578987 0.99998712]\n",
      " [0.33950187 0.65510993 0.65568329 0.99999657]\n",
      " [0.29564808 0.70003624 0.70049384 0.99999454]\n",
      " [0.25484527 0.74216818 0.74248566 0.99998872]\n",
      " [0.21680993 0.78061485 0.78088993 0.99999592]\n",
      " [0.18238968 0.81593521 0.81611998 0.99999752]\n",
      " [0.1532382  0.84515914 0.84533438 0.99999931]\n",
      " [0.44382182 0.55318474 0.55350054 0.99642459]\n",
      " [0.39152373 0.60473147 0.60512734 0.99969129]\n",
      " [0.34260857 0.65228128 0.65281605 0.99998418]\n",
      " [0.29815579 0.70052793 0.70067221 0.99928667]\n",
      " [0.25703178 0.74234742 0.74241728 0.99916333]\n",
      " [0.21587247 0.7814696  0.7817562  0.99999779]\n",
      " [0.18422056 0.813412   0.81366138 0.9999979 ]\n",
      " [0.15416477 0.8450569  0.84514518 0.99999305]]\n",
      "(16, 4)\n",
      "\n",
      "derror_dwo \n",
      "[[ 0.00072996]\n",
      " [-0.00052847]\n",
      " [-0.00052847]\n",
      " [ 0.00019324]]\n",
      "(4, 1)\n",
      "\n",
      "derror_dino = derror_douto * douto_dino\n",
      "[[ 0.00185594]\n",
      " [-0.00128672]\n",
      " [-0.00179711]\n",
      " [ 0.00038757]\n",
      " [ 0.00369099]\n",
      " [ 0.00429322]\n",
      " [ 0.00086016]\n",
      " [-0.0059534 ]\n",
      " [ 0.00173103]\n",
      " [-0.00167094]\n",
      " [-0.00314948]\n",
      " [-0.00027239]\n",
      " [ 0.00302217]\n",
      " [ 0.00483641]\n",
      " [-0.00017342]\n",
      " [-0.00617256]]\n",
      "(16, 1)\n",
      "\n",
      "weight outpout: dino_douth\n",
      "[[-5.89187893]\n",
      " [ 2.52129286]\n",
      " [ 2.6488355 ]\n",
      " [-2.27732727]]\n",
      "(4, 1)\n",
      "\n",
      " derror_douth = np.dot(derror_dino , dino_douth.T) \n",
      "[[-0.01093495  0.00467936  0.00491607 -0.00422657]\n",
      " [ 0.0075812  -0.0032442  -0.00340831  0.00293029]\n",
      " [ 0.01058832 -0.00453102 -0.00476023  0.0040926 ]\n",
      " [-0.00228354  0.00097719  0.00102662 -0.00088263]\n",
      " [-0.02174683  0.00930605  0.0097768  -0.00840558]\n",
      " [-0.02529513  0.01082446  0.01137203 -0.00977707]\n",
      " [-0.00506793  0.0021687   0.00227841 -0.00195886]\n",
      " [ 0.03507671 -0.01501026 -0.01576957  0.01355784]\n",
      " [-0.01019904  0.00436444  0.00458522 -0.00394213]\n",
      " [ 0.00984498 -0.00421293 -0.00442605  0.00380528]\n",
      " [ 0.01855635 -0.00794075 -0.00834245  0.0071724 ]\n",
      " [ 0.00160486 -0.00068676 -0.0007215   0.00062031]\n",
      " [-0.01780625  0.00761977  0.00800523 -0.00688247]\n",
      " [-0.02849554  0.012194    0.01281085 -0.01101409]\n",
      " [ 0.00102178 -0.00043725 -0.00045936  0.00039494]\n",
      " [ 0.03636794 -0.01556281 -0.01635007  0.01405693]]\n",
      "(16, 4)\n",
      "\n",
      "douth_dinh\n",
      "[[2.46548604e-01 2.47121891e-01 2.47063892e-01 1.49565177e-04]\n",
      " [2.37688843e-01 2.38937287e-01 2.38808504e-01 1.28751618e-05]\n",
      " [2.24240352e-01 2.25940910e-01 2.25762712e-01 3.43062327e-06]\n",
      " [2.08240291e-01 2.09985501e-01 2.09802221e-01 5.46336143e-06]\n",
      " [1.89899159e-01 1.91354574e-01 1.91200704e-01 1.12766433e-05]\n",
      " [1.69803386e-01 1.71255307e-01 1.71100846e-01 4.07911805e-06]\n",
      " [1.49123683e-01 1.50184940e-01 1.50068160e-01 2.47867979e-06]\n",
      " [1.29756253e-01 1.30865167e-01 1.30744169e-01 6.91776598e-07]\n",
      " [2.46844012e-01 2.47171383e-01 2.47137692e-01 3.56263072e-03]\n",
      " [2.38232899e-01 2.39031319e-01 2.38948242e-01 3.08615124e-04]\n",
      " [2.25227938e-01 2.26810413e-01 2.26647255e-01 1.58198556e-05]\n",
      " [2.09258916e-01 2.09788550e-01 2.09730665e-01 7.12819216e-04]\n",
      " [1.90966442e-01 1.91267727e-01 1.91233862e-01 8.35974053e-04]\n",
      " [1.69271548e-01 1.70774862e-01 1.70613442e-01 2.21325674e-06]\n",
      " [1.50283345e-01 1.51772918e-01 1.51616539e-01 2.09820531e-06]\n",
      " [1.30397994e-01 1.30935737e-01 1.30874804e-01 6.94559657e-06]]\n",
      "\n",
      "dinh_dwh\n",
      "[[1 7 3]\n",
      " [2 8 4]\n",
      " [3 9 3]\n",
      " [4 6 5]\n",
      " [5 4 5]\n",
      " [6 4 5]\n",
      " [7 6 1]\n",
      " [8 5 3]\n",
      " [1 4 2]\n",
      " [2 5 3]\n",
      " [3 4 8]\n",
      " [4 3 1]\n",
      " [5 1 2]\n",
      " [6 6 3]\n",
      " [7 1 9]\n",
      " [8 3 2]]\n",
      "\n",
      "derror_wh\n",
      "[[-4.45227757e-05  4.78148938e-05  4.75010591e-05 -3.89198035e-05]\n",
      " [ 3.58208936e-06 -2.57786846e-06 -2.61442989e-06 -5.86780053e-05]\n",
      " [ 6.75902533e-06  1.89495589e-06  1.26699997e-06 -3.69708304e-05]]\n",
      "\n",
      "Input features \n",
      "[[1 7 3]\n",
      " [2 8 4]\n",
      " [3 9 3]\n",
      " [4 6 5]\n",
      " [5 4 5]\n",
      " [6 4 5]\n",
      " [7 6 1]\n",
      " [8 5 3]\n",
      " [1 4 2]\n",
      " [2 5 3]\n",
      " [3 4 8]\n",
      " [4 3 1]\n",
      " [5 1 2]\n",
      " [6 6 3]\n",
      " [7 1 9]\n",
      " [8 3 2]]\n",
      "\n",
      "Input for Hidden layer \n",
      "[[-0.23608478  0.21542125  0.21759801  8.8074791 ]\n",
      " [-0.45133105  0.4270936   0.42964907 11.26018479]\n",
      " [-0.66551482  0.64157732  0.64411599 12.58276174]\n",
      " [-0.8681083   0.84747046  0.84965057 12.11743538]\n",
      " [-1.07293531  1.05726835  1.05892816 11.39275438]\n",
      " [-1.28435432  1.26925301  1.27086001 12.4096216 ]\n",
      " [-1.50024037  1.48904717  1.49027788 12.90777953]\n",
      " [-1.70942586  1.69712707  1.69846673 14.18400139]\n",
      " [-0.22566552  0.2135468   0.21482453  5.6300924 ]\n",
      " [-0.44091179  0.42521915  0.42687559  8.0827981 ]\n",
      " [-0.65169101  0.62908199  0.63144064 11.05421308]\n",
      " [-0.85609531  0.84981307  0.8505009   7.24485556]\n",
      " [-1.06145356  1.05820527  1.05857055  7.08523893]\n",
      " [-1.28988384  1.27425114  1.27593016 13.02104106]\n",
      " [-1.48801029  1.47233477  1.47397872 13.074424  ]\n",
      " [-1.70230261  1.69634599  1.6970204  11.87738879]]\n",
      "\n",
      "Output for hidden layer \n",
      "[[0.44125142 0.55364801 0.55418587 0.99985041]\n",
      " [0.38904434 0.60517943 0.60578987 0.99998712]\n",
      " [0.33950187 0.65510993 0.65568329 0.99999657]\n",
      " [0.29564808 0.70003624 0.70049384 0.99999454]\n",
      " [0.25484527 0.74216818 0.74248566 0.99998872]\n",
      " [0.21680993 0.78061485 0.78088993 0.99999592]\n",
      " [0.18238968 0.81593521 0.81611998 0.99999752]\n",
      " [0.1532382  0.84515914 0.84533438 0.99999931]\n",
      " [0.44382182 0.55318474 0.55350054 0.99642459]\n",
      " [0.39152373 0.60473147 0.60512734 0.99969129]\n",
      " [0.34260857 0.65228128 0.65281605 0.99998418]\n",
      " [0.29815579 0.70052793 0.70067221 0.99928667]\n",
      " [0.25703178 0.74234742 0.74241728 0.99916333]\n",
      " [0.21587247 0.7814696  0.7817562  0.99999779]\n",
      " [0.18422056 0.813412   0.81366138 0.9999979 ]\n",
      " [0.15416477 0.8450569  0.84514518 0.99999305]]\n"
     ]
    }
   ],
   "source": [
    "print(\"\\n#-------------------------------------------------\\n\" )\n",
    "print(\"\\nModified weights for hidden layer.\\n\" )\n",
    "print(weight_hidden)\n",
    "print(\"\\nModified weights for output layer.\\n\" )\n",
    "print(weight_output)\n",
    "print(\"\\n#-------------------------------------------------\\n\" )\n",
    "\n",
    "print(\"\\nderror_douto \" )\n",
    "print( derror_douto )\n",
    "print( derror_douto.shape )\n",
    "print(\"\\ndino_dwo \" )\n",
    "print( douto_dino )\n",
    "print( douto_dino.shape )\n",
    "print(\"\\ndno_dwo \" )\n",
    "print( dino_dwo )\n",
    "print( dino_dwo.shape )\n",
    "print(\"\\nderror_dwo \" )\n",
    "print( derror_dwo )\n",
    "print( derror_dwo.shape )\n",
    "print(\"\\nderror_dino = derror_douto * douto_dino\") \n",
    "print( derror_dino )\n",
    "print( derror_dino.shape )\n",
    "print(\"\\nweight outpout: dino_douth\")\n",
    "print( dino_douth ) \n",
    "print( dino_douth.shape ) \n",
    "print(\"\\n derror_douth = np.dot(derror_dino , dino_douth.T) \") \n",
    "print( derror_douth )\n",
    "print( derror_douth.shape )\n",
    "print(\"\\ndouth_dinh\")\n",
    "print(douth_dinh)\n",
    "print(\"\\ndinh_dwh\")\n",
    "print(dinh_dwh)\n",
    "print(\"\\nderror_wh\")\n",
    "print(derror_wh)\n",
    "\n",
    "\n",
    "\n",
    "print(\"\\nInput features \" )\n",
    "print( input_features)\n",
    "print(\"\\nInput for Hidden layer \" )\n",
    "print( input_hidden)\n",
    "print(\"\\nOutput for hidden layer \"  )\n",
    "print( output_hidden)"
   ]
  },
  {
   "cell_type": "markdown",
   "metadata": {},
   "source": [
    "# Testing the code:"
   ]
  },
  {
   "cell_type": "code",
   "execution_count": 16,
   "metadata": {},
   "outputs": [],
   "source": [
    "#optimised weights for hidden layer.\n",
    "weight_hidden =[[-0.19977359,  0.23970796,  0.20002789,  1.04523855],\n",
    "        [-0.05363865, -0.13397817,  0.05301959,  0.9135291 ],\n",
    "        [-0.05801965, -0.13830767,  0.05805095,  0.59429658]]\n",
    "\n",
    "\n",
    "#Modified weights for output layer.\n",
    "weight_output =[[-6.47888035],\n",
    "        [ 2.76241115],\n",
    "        [ 2.94848593],\n",
    "        [-2.55717343]]"
   ]
  },
  {
   "cell_type": "code",
   "execution_count": 17,
   "metadata": {},
   "outputs": [
    {
     "name": "stdout",
     "output_type": "stream",
     "text": [
      "[6.27822906]\n"
     ]
    }
   ],
   "source": [
    "input_features=[6, 2, 3]\n",
    "\n",
    "    # Input for hidden layer :\n",
    "input_hidden = np.dot(input_features, weight_hidden)\n",
    " \n",
    " # Output from hidden layer :\n",
    "output_hidden = sigmoid(input_hidden)\n",
    " \n",
    " # Input for output layer :\n",
    "input_op = np.dot(output_hidden, weight_output)\n",
    " \n",
    " # Output from output layer :\n",
    "output_op = sigmoid(input_op)\n",
    "\n",
    "print(output_op*10)"
   ]
  }
 ],
 "metadata": {
  "kernelspec": {
   "display_name": "Python 3",
   "language": "python",
   "name": "python3"
  },
  "language_info": {
   "codemirror_mode": {
    "name": "ipython",
    "version": 3
   },
   "file_extension": ".py",
   "mimetype": "text/x-python",
   "name": "python",
   "nbconvert_exporter": "python",
   "pygments_lexer": "ipython3",
   "version": "3.7.6"
  }
 },
 "nbformat": 4,
 "nbformat_minor": 4
}
