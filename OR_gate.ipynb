{
 "cells": [
  {
   "cell_type": "markdown",
   "metadata": {},
   "source": [
    "# Single Layer single neuron for OR gate"
   ]
  },
  {
   "cell_type": "code",
   "execution_count": 1,
   "metadata": {},
   "outputs": [],
   "source": [
    "# Import required libraries:\n",
    "import numpy as np"
   ]
  },
  {
   "cell_type": "markdown",
   "metadata": {},
   "source": [
    "### Define input features:"
   ]
  },
  {
   "cell_type": "code",
   "execution_count": 3,
   "metadata": {},
   "outputs": [
    {
     "data": {
      "text/plain": [
       "array([[0, 1],\n",
       "       [0, 0],\n",
       "       [1, 0],\n",
       "       [1, 1]])"
      ]
     },
     "execution_count": 3,
     "metadata": {},
     "output_type": "execute_result"
    }
   ],
   "source": [
    "input_features = np.array([[0,1],[0,0],[1,0],[1,1]])\n",
    "input_features\n",
    "#input_features.shape"
   ]
  },
  {
   "cell_type": "markdown",
   "metadata": {},
   "source": [
    "### Define target output:"
   ]
  },
  {
   "cell_type": "code",
   "execution_count": 4,
   "metadata": {},
   "outputs": [
    {
     "data": {
      "text/plain": [
       "array([[1],\n",
       "       [0],\n",
       "       [1],\n",
       "       [1]])"
      ]
     },
     "execution_count": 4,
     "metadata": {},
     "output_type": "execute_result"
    }
   ],
   "source": [
    "target_output = np.array([[1,0,1,1]])\n",
    "target_output = target_output.transpose()\n",
    "target_output"
   ]
  },
  {
   "cell_type": "markdown",
   "metadata": {},
   "source": [
    "### Define weights:"
   ]
  },
  {
   "cell_type": "code",
   "execution_count": 5,
   "metadata": {},
   "outputs": [
    {
     "data": {
      "text/plain": [
       "array([[0.1],\n",
       "       [0.2]])"
      ]
     },
     "execution_count": 5,
     "metadata": {},
     "output_type": "execute_result"
    }
   ],
   "source": [
    "weights = np.array([[0.1],[0.2]])\n",
    "#weights.shape\n",
    "weights"
   ]
  },
  {
   "cell_type": "markdown",
   "metadata": {},
   "source": [
    "### Learning Rate:"
   ]
  },
  {
   "cell_type": "code",
   "execution_count": 13,
   "metadata": {},
   "outputs": [],
   "source": [
    "lr = 0.05\n",
    "bias = 0.3"
   ]
  },
  {
   "cell_type": "code",
   "execution_count": 6,
   "metadata": {},
   "outputs": [],
   "source": [
    "#Write Error into a file name error1.dat\n",
    "file =open(\"error1.dat\", 'w')"
   ]
  },
  {
   "cell_type": "markdown",
   "metadata": {},
   "source": [
    "### Sigmoid function: and Derivative of sigmoid function"
   ]
  },
  {
   "cell_type": "code",
   "execution_count": 6,
   "metadata": {},
   "outputs": [],
   "source": [
    "def sigmoid(x):\n",
    "   return 1/(1+np.exp(-x))"
   ]
  },
  {
   "cell_type": "code",
   "execution_count": 5,
   "metadata": {},
   "outputs": [],
   "source": [
    "def sigmoid_der(x):\n",
    "   return sigmoid(x)*(1-sigmoid(x))"
   ]
  },
  {
   "cell_type": "code",
   "execution_count": 14,
   "metadata": {},
   "outputs": [
    {
     "data": {
      "text/plain": [
       "(array([[8.42877123],\n",
       "        [8.42884677]]),\n",
       " array([-3.86786654]))"
      ]
     },
     "execution_count": 14,
     "metadata": {},
     "output_type": "execute_result"
    }
   ],
   "source": [
    "#Main Code\n",
    "for epoch in range(20000):\n",
    "    inputs = input_features\n",
    "\n",
    "   #Feedforward input:\n",
    "    in_o = np.dot(inputs, weights) +bias\n",
    "\n",
    "   #Feedforward output:\n",
    "    out_o = sigmoid(in_o) \n",
    "\n",
    "   #Backpropogation#Calculating error\n",
    "    error = ( (1/4) * (np.power((out_o  - target_output), 2)))\n",
    "    \n",
    "   #Going with the formula:\n",
    "    loss = error.sum()\n",
    "   \n",
    "   #Printing and writing error to the file.\n",
    "   #print(\"This is the error\\n\")\n",
    "   #print(x)\n",
    "    file.write(\"%d % 9.8f \\n\"% (epoch, loss))\n",
    "\n",
    "   #Calculating derivative:\n",
    "    derror_douto = out_o  - target_output\n",
    "    douto_dino = sigmoid_der(out_o)#Multiplying individual derivatives:\n",
    "    deriv = derror_douto * douto_dino #Multiplying with the 3rd individual derivative:\n",
    "   \n",
    "   #Finding the transpose of input_features:\n",
    "    inputs = input_features.T\n",
    "    deriv_final = np.dot(inputs,deriv)\n",
    "    \n",
    "   #Updating the weights values: lr is learning rate\n",
    "    weights -= lr * deriv_final \n",
    "    \n",
    "   #Updating the bias weight value:\n",
    "    for i in deriv:\n",
    "        bias -= lr * i\n",
    "\n",
    "weights, bias\n"
   ]
  },
  {
   "cell_type": "markdown",
   "metadata": {},
   "source": [
    "### Plotting "
   ]
  },
  {
   "cell_type": "code",
   "execution_count": 9,
   "metadata": {},
   "outputs": [
    {
     "data": {
      "text/plain": [
       "Text(0, 0.5, 'Error')"
      ]
     },
     "execution_count": 9,
     "metadata": {},
     "output_type": "execute_result"
    },
    {
     "data": {
      "image/png": "[encoded data removed]",
      "text/plain": [
       "<Figure size 432x288 with 1 Axes>"
      ]
     },
     "metadata": {
      "needs_background": "light"
     },
     "output_type": "display_data"
    }
   ],
   "source": [
    "from matplotlib import pyplot as plt\n",
    "run, err= np.loadtxt(\"error1.dat\", unpack=True)\n",
    "plt.plot(run, err)\n",
    "plt.xlabel(\"Epoch\")\n",
    "plt.ylabel(\"Error\")"
   ]
  },
  {
   "cell_type": "markdown",
   "metadata": {},
   "source": [
    "# Testing Code"
   ]
  },
  {
   "cell_type": "code",
   "execution_count": 10,
   "metadata": {},
   "outputs": [
    {
     "data": {
      "text/plain": [
       "array([0.02047493])"
      ]
     },
     "execution_count": 10,
     "metadata": {},
     "output_type": "execute_result"
    }
   ],
   "source": [
    "single_input = np.array([0, 0])\n",
    "\n",
    "\n",
    "weights= np.array([[8.42877123],\n",
    "        [8.42884677]])\n",
    "bias= -3.86786654\n",
    "\n",
    "output= np.dot(single_input, weights) + bias\n",
    "\n",
    "result= sigmoid(output)\n",
    "result\n"
   ]
  }
 ],
 "metadata": {
  "kernelspec": {
   "display_name": "Python 3",
   "language": "python",
   "name": "python3"
  },
  "language_info": {
   "codemirror_mode": {
    "name": "ipython",
    "version": 3
   },
   "file_extension": ".py",
   "mimetype": "text/x-python",
   "name": "python",
   "nbconvert_exporter": "python",
   "pygments_lexer": "ipython3",
   "version": "3.7.6"
  }
 },
 "nbformat": 4,
 "nbformat_minor": 4
}
